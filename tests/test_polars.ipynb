{
 "cells": [
  {
   "cell_type": "code",
   "execution_count": 1,
   "id": "764c4f28",
   "metadata": {},
   "outputs": [],
   "source": [
    "import polars as pl\n",
    "from climakitae.new_core.data_access import DataCatalog"
   ]
  },
  {
   "cell_type": "code",
   "execution_count": 2,
   "id": "d6fce735",
   "metadata": {},
   "outputs": [],
   "source": [
    "query = {\n",
    "            \"installation\": \"pv_utility\",\n",
    "            \"table_id\": \"day\",\n",
    "            \"grid_label\": \"d03\",\n",
    "            \"variable_id\": \"cf\",\n",
    "            \"experiment_id\": \"historical\"\n",
    "        }"
   ]
  },
  {
   "cell_type": "code",
   "execution_count": 3,
   "id": "1a5cee19",
   "metadata": {},
   "outputs": [
    {
     "name": "stdout",
     "output_type": "stream",
     "text": [
      "Querying renewables catalog with query: {'installation': 'pv_utility', 'table_id': 'day', 'grid_label': 'd03', 'variable_id': 'cf', 'experiment_id': 'historical'}\n",
      "0 installation                                             pv_utility\n",
      "activity_id                                                     WRF\n",
      "institution_id                                                  ERA\n",
      "source_id                                                 EC-Earth3\n",
      "experiment_id                                            historical\n",
      "table_id                                                        day\n",
      "variable_id                                                      cf\n",
      "grid_label                                                      d03\n",
      "path              s3://wfclimres/era/pv_utility/ec-earth3/histor...\n",
      "Name: 0, dtype: object\n",
      "pv_utility.WRF.ERA.EC-Earth3.historical.day.d03 s3://wfclimres/era/pv_utility/ec-earth3/historical/day/cf/d03/ cf\n"
     ]
    },
    {
     "ename": "AttributeError",
     "evalue": "module 'polars' has no attribute 'scan_zarr'",
     "output_type": "error",
     "traceback": [
      "\u001b[0;31m---------------------------------------------------------------------------\u001b[0m",
      "\u001b[0;31mAttributeError\u001b[0m                            Traceback (most recent call last)",
      "Cell \u001b[0;32mIn[3], line 3\u001b[0m\n\u001b[1;32m      1\u001b[0m dc \u001b[38;5;241m=\u001b[39m DataCatalog()\n\u001b[1;32m      2\u001b[0m dc\u001b[38;5;241m.\u001b[39mset_catalog_key(\u001b[38;5;124m\"\u001b[39m\u001b[38;5;124mrenewables\u001b[39m\u001b[38;5;124m\"\u001b[39m)\n\u001b[0;32m----> 3\u001b[0m pl_dict \u001b[38;5;241m=\u001b[39m \u001b[43mdc\u001b[49m\u001b[38;5;241;43m.\u001b[39;49m\u001b[43mget_data\u001b[49m\u001b[43m(\u001b[49m\n\u001b[1;32m      4\u001b[0m \u001b[43m    \u001b[49m\u001b[43mquery\u001b[49m\u001b[38;5;241;43m=\u001b[39;49m\u001b[43mquery\u001b[49m\u001b[43m,\u001b[49m\u001b[43m \u001b[49m\u001b[43mpolars\u001b[49m\u001b[38;5;241;43m=\u001b[39;49m\u001b[38;5;28;43;01mTrue\u001b[39;49;00m\n\u001b[1;32m      5\u001b[0m \u001b[43m)\u001b[49m\n",
      "File \u001b[0;32m~/Documents/work/climakitae/climakitae/new_core/data_access.py:214\u001b[0m, in \u001b[0;36mDataCatalog.get_data\u001b[0;34m(self, query, polars)\u001b[0m\n\u001b[1;32m    212\u001b[0m     var \u001b[38;5;241m=\u001b[39m row[\u001b[38;5;124m\"\u001b[39m\u001b[38;5;124mvariable_id\u001b[39m\u001b[38;5;124m\"\u001b[39m]\n\u001b[1;32m    213\u001b[0m     \u001b[38;5;28mprint\u001b[39m(key, path, var)\n\u001b[0;32m--> 214\u001b[0m     ret[key] \u001b[38;5;241m=\u001b[39m \u001b[43mpl\u001b[49m\u001b[38;5;241;43m.\u001b[39;49m\u001b[43mscan_zarr\u001b[49m(\n\u001b[1;32m    215\u001b[0m         path,\n\u001b[1;32m    216\u001b[0m         storage_options\u001b[38;5;241m=\u001b[39m{\u001b[38;5;124m\"\u001b[39m\u001b[38;5;124manon\u001b[39m\u001b[38;5;124m\"\u001b[39m: \u001b[38;5;28;01mTrue\u001b[39;00m},\n\u001b[1;32m    217\u001b[0m     )\n\u001b[1;32m    218\u001b[0m     ret[key] \u001b[38;5;241m=\u001b[39m ret[key]\u001b[38;5;241m.\u001b[39mselect(var)\u001b[38;5;241m.\u001b[39mcollect()\n\u001b[1;32m    219\u001b[0m \u001b[38;5;28;01mreturn\u001b[39;00m ret\n",
      "File \u001b[0;32m~/anaconda3/envs/ck-test/lib/python3.12/site-packages/polars/__init__.py:474\u001b[0m, in \u001b[0;36m__getattr__\u001b[0;34m(name)\u001b[0m\n\u001b[1;32m    471\u001b[0m     \u001b[38;5;28;01mreturn\u001b[39;00m \u001b[38;5;28mgetattr\u001b[39m(dtgroup, name)\n\u001b[1;32m    473\u001b[0m msg \u001b[38;5;241m=\u001b[39m \u001b[38;5;124mf\u001b[39m\u001b[38;5;124m\"\u001b[39m\u001b[38;5;124mmodule \u001b[39m\u001b[38;5;132;01m{\u001b[39;00m\u001b[38;5;18m__name__\u001b[39m\u001b[38;5;132;01m!r}\u001b[39;00m\u001b[38;5;124m has no attribute \u001b[39m\u001b[38;5;132;01m{\u001b[39;00mname\u001b[38;5;132;01m!r}\u001b[39;00m\u001b[38;5;124m\"\u001b[39m\n\u001b[0;32m--> 474\u001b[0m \u001b[38;5;28;01mraise\u001b[39;00m \u001b[38;5;167;01mAttributeError\u001b[39;00m(msg)\n",
      "\u001b[0;31mAttributeError\u001b[0m: module 'polars' has no attribute 'scan_zarr'"
     ]
    }
   ],
   "source": [
    "dc = DataCatalog()\n",
    "dc.set_catalog_key(\"renewables\")\n",
    "pl_dict = dc.get_data(\n",
    "    query=query, polars=True\n",
    ")"
   ]
  },
  {
   "cell_type": "markdown",
   "id": "a178e9f3",
   "metadata": {},
   "source": []
  },
  {
   "cell_type": "code",
   "execution_count": null,
   "id": "919f6c57",
   "metadata": {},
   "outputs": [],
   "source": [
    "pl.D"
   ]
  }
 ],
 "metadata": {
  "kernelspec": {
   "display_name": "Python 3",
   "language": "python",
   "name": "python3"
  },
  "language_info": {
   "codemirror_mode": {
    "name": "ipython",
    "version": 3
   },
   "file_extension": ".py",
   "mimetype": "text/x-python",
   "name": "python",
   "nbconvert_exporter": "python",
   "pygments_lexer": "ipython3",
   "version": "3.12.8"
  }
 },
 "nbformat": 4,
 "nbformat_minor": 5
}
